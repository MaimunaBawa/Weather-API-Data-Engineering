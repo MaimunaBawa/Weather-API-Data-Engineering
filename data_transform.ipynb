{
 "cells": [
  {
   "cell_type": "code",
   "execution_count": 1,
   "metadata": {},
   "outputs": [],
   "source": [
    "import pandas as pd\n",
    "import os\n",
    "import sys\n",
    "import datetime\n",
    "\n",
    "#Read new.cvs into new notebook \n",
    "df = pd.read_csv(\"data/csv/new.csv\")\n",
    "#df.dropna(inplace=True)\n",
    "\n"
   ]
  },
  {
   "cell_type": "code",
   "execution_count": 2,
   "metadata": {},
   "outputs": [],
   "source": [
    "# convert time into datetime,set year_month as index\n",
    "\n",
    "df[\"year\"] = pd.to_datetime(df[\"time\"]).dt.to_period(\"M\")\n",
    "df.set_index(\"year\", inplace=True)"
   ]
  },
  {
   "cell_type": "code",
   "execution_count": 3,
   "metadata": {},
   "outputs": [
    {
     "name": "stderr",
     "output_type": "stream",
     "text": [
      "/var/folders/rg/csr6nvbs3kn2m8d77jr48cqw0000gn/T/ipykernel_27854/4180931586.py:3: FutureWarning: Resampling with a PeriodIndex is deprecated. Cast index to DatetimeIndex before resampling instead.\n",
      "  monthly_medians = df.resample(\"M\")[[\"temperature_2m\",\"relative_humidity_2m\",\"precipitation\",\"surface_pressure\"]].median()\n"
     ]
    }
   ],
   "source": [
    "\n",
    "#find monthly medians of temperature`, `relative humidity`, `precipitation`, and `surface pressure`\n",
    "\n",
    "monthly_medians = df.resample(\"M\")[[\"temperature_2m\",\"relative_humidity_2m\",\"precipitation\",\"surface_pressure\"]].median()\n",
    "\n",
    "monthly_medians.to_csv(\"data/csv/monthly_medians.csv\")\n",
    "\n",
    "\n"
   ]
  },
  {
   "cell_type": "code",
   "execution_count": 4,
   "metadata": {},
   "outputs": [],
   "source": [
    "df[\"year\"] = pd.to_datetime(df[\"time\"]).dt.to_period(\"Y\")\n"
   ]
  },
  {
   "cell_type": "code",
   "execution_count": 5,
   "metadata": {},
   "outputs": [
    {
     "name": "stderr",
     "output_type": "stream",
     "text": [
      "/var/folders/rg/csr6nvbs3kn2m8d77jr48cqw0000gn/T/ipykernel_27854/1760171862.py:3: FutureWarning: Resampling with a PeriodIndex is deprecated. Cast index to DatetimeIndex before resampling instead.\n",
      "  yearly_median=df.resample(\"Y\") [[\"temperature_2m\",\"relative_humidity_2m\",\"precipitation\",\"surface_pressure\"]].median()\n"
     ]
    }
   ],
   "source": [
    "\n",
    "#resample yearly median for temperature`, `relative humidity`, `precipitation`, and `surface pressure`\n",
    "\n",
    "yearly_median=df.resample(\"Y\") [[\"temperature_2m\",\"relative_humidity_2m\",\"precipitation\",\"surface_pressure\"]].median()\n",
    "\n",
    "#save to csv as yearly_median\n",
    "yearly_median.to_csv(\"data/csv/yearly_median_csv\")\n",
    "\n"
   ]
  },
  {
   "cell_type": "code",
   "execution_count": 6,
   "metadata": {},
   "outputs": [
    {
     "name": "stderr",
     "output_type": "stream",
     "text": [
      "/var/folders/rg/csr6nvbs3kn2m8d77jr48cqw0000gn/T/ipykernel_27854/4231789665.py:7: FutureWarning: Resampling with a PeriodIndex is deprecated. Cast index to DatetimeIndex before resampling instead.\n",
      "  yearly_median_br = br.resample(\"Y\")[[\"million_60kgs_bag\",\"nonbear_mill_trees\", \"bear_mill_trees\", \"avg_unemp_perc\"]].median()\n"
     ]
    }
   ],
   "source": [
    "br = pd.read_csv(\"data/csv/br_final.csv\")\n",
    "\n",
    "br[\"year\"] = pd.to_datetime(br[\"year\"], format=\"%Y\").dt.to_period(\"Y\")\n",
    "br.set_index(\"year\", inplace=True)\n",
    "\n",
    "\n",
    "yearly_median_br = br.resample(\"Y\")[[\"million_60kgs_bag\",\"nonbear_mill_trees\", \"bear_mill_trees\", \"avg_unemp_perc\"]].median()\n",
    "\n",
    "yearly_median_br.to_csv(\"data/csv/yearly_median_br\")\n",
    "\n"
   ]
  },
  {
   "cell_type": "code",
   "execution_count": 7,
   "metadata": {},
   "outputs": [],
   "source": [
    "# merge year_median_br and yearly_median on Minas Gerais\n",
    "merge_data = pd.merge(yearly_median_br, yearly_median, left_index=True, right_index=True, how=\"right\")\n",
    "\n",
    "merge_data  [\"subdivision\"]=\"Minas Gerais\"\n",
    "\n",
    "\n",
    "merge_data.to_csv(\"data/csv/merge_data\")\n"
   ]
  }
 ],
 "metadata": {
  "kernelspec": {
   "display_name": "environment.yml",
   "language": "python",
   "name": "python3"
  },
  "language_info": {
   "codemirror_mode": {
    "name": "ipython",
    "version": 3
   },
   "file_extension": ".py",
   "mimetype": "text/x-python",
   "name": "python",
   "nbconvert_exporter": "python",
   "pygments_lexer": "ipython3",
   "version": "3.12.8"
  }
 },
 "nbformat": 4,
 "nbformat_minor": 2
}
